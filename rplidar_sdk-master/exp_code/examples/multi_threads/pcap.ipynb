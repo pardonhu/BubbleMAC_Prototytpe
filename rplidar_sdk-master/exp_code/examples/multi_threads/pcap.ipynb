{
 "cells": [
  {
   "cell_type": "code",
   "execution_count": 4,
   "metadata": {},
   "outputs": [
    {
     "ename": "ImportError",
     "evalue": "attempted relative import with no known parent package",
     "output_type": "error",
     "traceback": [
      "\u001b[0;31m---------------------------------------------------------------------------\u001b[0m",
      "\u001b[0;31mImportError\u001b[0m                               Traceback (most recent call last)",
      "Cell \u001b[0;32mIn[4], line 9\u001b[0m\n\u001b[1;32m      7\u001b[0m \u001b[39mimport\u001b[39;00m \u001b[39mtime\u001b[39;00m\n\u001b[1;32m      8\u001b[0m \u001b[39mimport\u001b[39;00m \u001b[39mthreading\u001b[39;00m\n\u001b[0;32m----> 9\u001b[0m \u001b[39mfrom\u001b[39;00m \u001b[39m.\u001b[39;00m \u001b[39mimport\u001b[39;00m communicate, GPS\n\u001b[1;32m     10\u001b[0m \u001b[39m# print('hello')\u001b[39;00m\n",
      "\u001b[0;31mImportError\u001b[0m: attempted relative import with no known parent package"
     ]
    }
   ],
   "source": [
    "# import scapy\n",
    "# !ls\n",
    "import sys\n",
    "sys.executable\n",
    "import os \n",
    "import numpy\n",
    "import time\n",
    "import threading\n",
    "from . import communicate, GPS\n",
    "# print('hello')"
   ]
  },
  {
   "cell_type": "code",
   "execution_count": 14,
   "metadata": {},
   "outputs": [
    {
     "name": "stdout",
     "output_type": "stream",
     "text": [
      "1\n",
      "2\n",
      "RadioTap / 802.11 Data Data 23:23:23:23:23:23 (TA=SA) > 42:42:42:42:42:42 (RA=DA) / LLC / Raw\n",
      "3\n",
      "RadioTap / 802.11 Data Data 23:23:23:23:23:23 (TA=SA) > 42:42:42:42:42:42 (RA=DA) / LLC / Raw\n",
      "4\n",
      "RadioTap / 802.11 Data Data 23:23:23:23:23:23 (TA=SA) > 42:42:42:42:42:42 (RA=DA) / LLC / Raw\n",
      "5\n",
      "RadioTap / 802.11 Data Data 23:23:23:23:23:23 (TA=SA) > 42:42:42:42:42:42 (RA=DA) / LLC / Raw\n",
      "6\n",
      "RadioTap / 802.11 Data Data 23:23:23:23:23:23 (TA=SA) > 42:42:42:42:42:42 (RA=DA) / LLC / Raw\n",
      "7\n",
      "RadioTap / 802.11 Data Data 23:23:23:23:23:23 (TA=SA) > 42:42:42:42:42:42 (RA=DA) / LLC / Raw\n",
      "8\n",
      "RadioTap / 802.11 Data Data 23:23:23:23:23:23 (TA=SA) > 42:42:42:42:42:42 (RA=DA) / LLC / Raw\n",
      "9\n",
      "RadioTap / 802.11 Data Data 23:23:23:23:23:23 (TA=SA) > 42:42:42:42:42:42 (RA=DA) / LLC / Raw\n",
      "10\n",
      "RadioTap / 802.11 Data Data 23:23:23:23:23:23 (TA=SA) > 42:42:42:42:42:42 (RA=DA) / LLC / Raw\n"
     ]
    }
   ],
   "source": [
    "# Python 3.6\n",
    "# Scapy 2.4.3\n",
    "\n",
    "from scapy.utils import PcapReader, PcapWriter\n",
    "import time\n",
    "\n",
    "i_pcap_filepath = \"../wifi.pcap\"  # pcap to read\n",
    "o_filepath = \"../fifo.fifo\"  # pcap to write\n",
    "\n",
    "i_open_file = PcapReader(i_pcap_filepath)  # opened file to read\n",
    "print(1)\n",
    "# o_open_file = PcapWriter(o_filepath)  # opened file to write\n",
    "cnt = 1\n",
    "while cnt < 10:\n",
    "    # I will have EOF exception but anyway\n",
    "    time.sleep(1)  # in order to see packet\n",
    "    cnt += 1\n",
    "    print(cnt)\n",
    "    packet = i_open_file.read_packet()  # read a packet in file\n",
    "    print(packet)\n",
    "\n",
    "    # o_open_file.write(packet)  # write it\n",
    "    # o_open_file.flush()  # force buffered data to be written to the file"
   ]
  },
  {
   "cell_type": "code",
   "execution_count": null,
   "metadata": {},
   "outputs": [],
   "source": [
    "# infile = open('../wifi.pcap', 'rb')\n",
    "# cnt = 0\n",
    "# a = infile.read(40)\n",
    "\n",
    "def read_msg(infile, length):\n",
    "    print('---message begin---')\n",
    "    for i in range(length):\n",
    "        a = infile.read(1).decode('ascii')\n",
    "        print(a, end = ' ')\n",
    "        if i % 20 == 19:\n",
    "            print()\n",
    "    print()\n",
    "\n",
    "with open('../wifi.pcap', 'rb') as infile:\n",
    "    \n",
    "    flag = True\n",
    "    while flag:\n",
    "        former = '00'\n",
    "        a = '00'\n",
    "        length, cnt = 0, 0\n",
    "        print('---packet begin---')\n",
    "        for i in range(500):\n",
    "            former = a\n",
    "            a = infile.read(1).hex()\n",
    "            length += 1\n",
    "            if a is None:\n",
    "                flag = False\n",
    "                break\n",
    "\n",
    "            if former == 'ff' and a == 'ff':\n",
    "                # print(f'cnt = {cnt}')\n",
    "                cnt += 1\n",
    "            else:\n",
    "                cnt = 0\n",
    "            print(a, end=' ')\n",
    "            # print(type(a))\n",
    "            if i % 10 == 9:\n",
    "                print()\n",
    "            if cnt == 5:\n",
    "                a = infile.read(2).hex()\n",
    "                print(a[:2] + ' ' + a[2:])\n",
    "                if a == 'ffff':\n",
    "                    flag = False\n",
    "                    break\n",
    "                read_msg(infile, 400)\n",
    "                # print(msg)\n",
    "                print(f'length = {length}')\n",
    "                cnt = 0\n",
    "                length = 0\n",
    "                break"
   ]
  },
  {
   "cell_type": "code",
   "execution_count": 5,
   "metadata": {},
   "outputs": [],
   "source": [
    "def read_latest_packet(file_path = '../wifi.pcap', packet_len = 457):\n",
    "    while(1):\n",
    "        with open(file_path, 'rb') as infile:\n",
    "            \n",
    "            infile.seek(-packet_len, 2)\n",
    "            print(infile.read(packet_len))\n",
    "            infile.close()\n",
    "        time.sleep(1)\n",
    "\n",
    "# read_latest_packet()\n"
   ]
  },
  {
   "cell_type": "code",
   "execution_count": 7,
   "metadata": {},
   "outputs": [
    {
     "name": "stdout",
     "output_type": "stream",
     "text": [
      "0d681164b4430d00b9010000b9010000000011006e080000000cb200000091000108000000424242424242232323232323ffffffffffff000861616161616161616161616161616161616161616161616161616161616161616161616161616161616161616161616161616161616161616161616161616161616161616161616161616161616161616161616161616161616161616161616161616161616161616161616161616161616161616161616161616161616161616161616161616161616161616161616161616161616161616161616161616161616161616161616161616161616161616161616161616161616161616161616161616161616161616161616161616161616161616161616161616161616161616161616161616161616161616161616161616161616161616161616161616161616161616161616161616161616161616161616161616161616161616161616161616161616161616161616161616161616161616161616161616161616161616161616161616161616161616161616161616161616161616161616161616161616161616161616161616161616161616161616161616161616161616161616161616161616161616161616161616161\n",
      "0d681164b4430d00b9010000b9010000000011006e080000000cb200000091000108000000424242424242232323232323ffffffffffff000861616161616161616161616161616161616161616161616161616161616161616161616161616161616161616161616161616161616161616161616161616161616161616161616161616161616161616161616161616161616161616161616161616161616161616161616161616161616161616161616161616161616161616161616161616161616161616161616161616161616161616161616161616161616161616161616161616161616161616161616161616161616161616161616161616161616161616161616161616161616161616161616161616161616161616161616161616161616161616161616161616161616161616161616161616161616161616161616161616161616161616161616161616161616161616161616161616161616161616161616161616161616161616161616161616161616161616161616161616161616161616161616161616161616161616161616161616161616161616161616161616161616161616161616161616161616161616161616161616161616161616161616161616161\n",
      "0d681164b4430d00b9010000b9010000000011006e080000000cb200000091000108000000424242424242232323232323ffffffffffff000861616161616161616161616161616161616161616161616161616161616161616161616161616161616161616161616161616161616161616161616161616161616161616161616161616161616161616161616161616161616161616161616161616161616161616161616161616161616161616161616161616161616161616161616161616161616161616161616161616161616161616161616161616161616161616161616161616161616161616161616161616161616161616161616161616161616161616161616161616161616161616161616161616161616161616161616161616161616161616161616161616161616161616161616161616161616161616161616161616161616161616161616161616161616161616161616161616161616161616161616161616161616161616161616161616161616161616161616161616161616161616161616161616161616161616161616161616161616161616161616161616161616161616161616161616161616161616161616161616161616161616161616161616161\n",
      "0d681164b4430d00b9010000b9010000000011006e080000000cb200000091000108000000424242424242232323232323ffffffffffff000861616161616161616161616161616161616161616161616161616161616161616161616161616161616161616161616161616161616161616161616161616161616161616161616161616161616161616161616161616161616161616161616161616161616161616161616161616161616161616161616161616161616161616161616161616161616161616161616161616161616161616161616161616161616161616161616161616161616161616161616161616161616161616161616161616161616161616161616161616161616161616161616161616161616161616161616161616161616161616161616161616161616161616161616161616161616161616161616161616161616161616161616161616161616161616161616161616161616161616161616161616161616161616161616161616161616161616161616161616161616161616161616161616161616161616161616161616161616161616161616161616161616161616161616161616161616161616161616161616161616161616161616161616161\n"
     ]
    },
    {
     "ename": "KeyboardInterrupt",
     "evalue": "",
     "output_type": "error",
     "traceback": [
      "\u001b[0;31m---------------------------------------------------------------------------\u001b[0m",
      "\u001b[0;31mKeyboardInterrupt\u001b[0m                         Traceback (most recent call last)",
      "Cell \u001b[0;32mIn[7], line 8\u001b[0m\n\u001b[1;32m      6\u001b[0m a \u001b[39m=\u001b[39m infile\u001b[39m.\u001b[39mreadline()\u001b[39m.\u001b[39mhex()\n\u001b[1;32m      7\u001b[0m \u001b[39mprint\u001b[39m(a)\n\u001b[0;32m----> 8\u001b[0m time\u001b[39m.\u001b[39;49msleep(\u001b[39m1\u001b[39;49m)\n",
      "\u001b[0;31mKeyboardInterrupt\u001b[0m: "
     ]
    }
   ],
   "source": [
    "import os\n",
    "import time\n",
    "infile = open('/home/hfc/Desktop/wifi.pcap', 'rb')\n",
    "while 1:\n",
    "    infile.seek(-457, 2)\n",
    "    a = infile.readline().hex()\n",
    "    print(a)\n",
    "    time.sleep(1)"
   ]
  },
  {
   "cell_type": "code",
   "execution_count": null,
   "metadata": {},
   "outputs": [],
   "source": []
  },
  {
   "cell_type": "code",
   "execution_count": null,
   "metadata": {},
   "outputs": [],
   "source": [
    "try:\n",
    "\n",
    "    threading.Thread(target=read_latest_packet, args=()).start()\n",
    "except Exception as e:\n",
    "    print(\"---异常---：\", e)"
   ]
  },
  {
   "cell_type": "code",
   "execution_count": null,
   "metadata": {},
   "outputs": [],
   "source": [
    "import struct\n",
    " \n",
    "class FileConvert(object):\n",
    "    ''' test python file'''\n",
    "    def __init__(self):\n",
    "        self.aa = 0\n",
    "        self.bb = 0\n",
    "        \n",
    "    def convertPcapToHex(self,debugFlg=0):\n",
    "        infile = open(\"test.pcap\",'rb')\n",
    "        outfile = open(\"testRslt.txt\",'w')\n",
    "        a = int(0)\n",
    " \n",
    "        while True:\n",
    "            a = int(0)\n",
    "            a = infile.read(4)\n",
    "            #print(type(a))\n",
    "            #print(len(a))\n",
    "            dataSaveNum = len(a)\n",
    "            if not a:\n",
    "                break\n",
    "            if(len(a) == 4):\n",
    "                pass\n",
    "            elif(len(a) != 0):\n",
    "                loopTime = 4 - len(a)\n",
    "                while (loopTime > 0):\n",
    "                    loopTime = loopTime - 1\n",
    "                    a = a + b'\\x00'\n",
    "            z = struct.unpack('i',a)\n",
    "            unNeg = z[0] & 0xFFFFFFFF #负数的验证\n",
    "            if(dataSaveNum == 4):\n",
    "                outfile.write(\"%08x\"%unNeg)\n",
    "                dataSaveNum = 0\n",
    "            \n",
    "            while(dataSaveNum > 0):\n",
    "                saveData = unNeg&0xFF\n",
    "                #保留单个字节\n",
    "                #outfile.write(\"%08x\"%unNeg)\n",
    "                unNeg = unNeg >> 8\n",
    "                dataSaveNum = dataSaveNum - 1\n",
    "                outfile.write(\"%02x\"%saveData)\n",
    "                \n",
    "            if(debugFlg == 1):\n",
    "                outfile.write(\"\\n\")\n",
    "                \n",
    "        infile.close()\n",
    "        outfile.close()\n",
    "      \n",
    "    def convertHexToPcap(self):\n",
    "        infile = open(\"testRslt.txt\",'r')\n",
    "        outfile = open(\"another.pcap\",'wb')\n",
    "        #for a in infile.read():\n",
    "        while True:\n",
    "            a = infile.read(8)\n",
    "            #print(type(a))\n",
    "            #print(b);\n",
    "            if not a:\n",
    "                break\n",
    "            if(len(a)!= 0):\n",
    "                #16进制转换10进制数\n",
    "                b=int(a,16)\n",
    "                covertValue = struct.pack(\"L\",b)\n",
    "                outfile.write(covertValue)\n",
    "            #outfile.write(\"%s\"%a)\n",
    "            #outfile.write(\"\\n\")\n",
    "        infile.close()\n",
    "        outfile.close()\n",
    " \n",
    "if __name__ == '__main__':\n",
    "    fileCvrt = FileConvert()\n",
    "    fileCvrt.convertPcapToHex()\n",
    "    fileCvrt.convertHexToPcap()"
   ]
  }
 ],
 "metadata": {
  "kernelspec": {
   "display_name": "Python 3",
   "language": "python",
   "name": "python3"
  },
  "language_info": {
   "codemirror_mode": {
    "name": "ipython",
    "version": 3
   },
   "file_extension": ".py",
   "mimetype": "text/x-python",
   "name": "python",
   "nbconvert_exporter": "python",
   "pygments_lexer": "ipython3",
   "version": "3.8.10"
  },
  "orig_nbformat": 4
 },
 "nbformat": 4,
 "nbformat_minor": 2
}
